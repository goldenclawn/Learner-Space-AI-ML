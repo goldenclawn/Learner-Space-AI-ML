{
 "cells": [
  {
   "cell_type": "code",
   "execution_count": 228,
   "metadata": {
    "id": "-zTLHrFCT6KY"
   },
   "outputs": [],
   "source": [
    "import numpy as np\n",
    "import pandas as pd\n",
    "import matplotlib.pyplot as plt\n",
    "\n",
    "# Aim is to predict the marks of students of the test data\n"
   ]
  },
  {
   "cell_type": "code",
   "execution_count": 229,
   "metadata": {
    "colab": {
     "base_uri": "https://localhost:8080/",
     "height": 356
    },
    "id": "p0KHq8ZgTpU4",
    "outputId": "af767fa4-341f-4e19-abcd-e9fbbecd9c86"
   },
   "outputs": [],
   "source": [
    "# Use the file namd 'training data' to train the model\n",
    "\n",
    "data = pd.read_excel('Training data.xlsx')\n",
    "\n",
    "x_train = np.array(data.iloc[:,0:8])\n",
    "y_train = np.array(data.iloc[:,8]).reshape(-1,1)\n",
    "\n",
    "# Try plotting y_train with different features\n",
    "# To get an idea whether to add some features or not\n",
    "# Add some features if required in x_train\n",
    "\n",
    "# Also do label encoding for features not represented in numbers\n",
    "# refer the link if not know : https://youtu.be/589nCGeWG1w?si=t2Wa7LgbUOO4RooM\n"
   ]
  },
  {
   "cell_type": "code",
   "execution_count": 230,
   "metadata": {},
   "outputs": [
    {
     "data": {
      "text/plain": [
       "array([['no', 'M', 2, 2, 5, 6, 18, 118],\n",
       "       ['yes', 'M', 2, 2, 2, 7, 19, 107]], dtype=object)"
      ]
     },
     "execution_count": 230,
     "metadata": {},
     "output_type": "execute_result"
    }
   ],
   "source": [
    "\n",
    "x_train[0:2]"
   ]
  },
  {
   "cell_type": "code",
   "execution_count": 231,
   "metadata": {},
   "outputs": [],
   "source": [
    "\n",
    "def feature_changing(x_train):\n",
    "  # ---------\n",
    "       m=x_train.shape[0]\n",
    "       for i in range(m):\n",
    "           if x_train[i][1]=='M':\n",
    "               x_train[i][1]=1\n",
    "           if x_train[i][0]=='yes':\n",
    "               x_train[i][0]=1\n",
    "           \n",
    "           if x_train[i][1]=='F':\n",
    "                x_train[i][1]=0\n",
    "           if x_train[i][0]=='no':\n",
    "               x_train[i][0]=0\n",
    "           \n",
    "               \n",
    "      # --------\n",
    "       return x_train\n",
    "\n",
    "x_train = feature_changing(x_train)"
   ]
  },
  {
   "cell_type": "code",
   "execution_count": 232,
   "metadata": {
    "id": "tYshvtYlVour"
   },
   "outputs": [],
   "source": [
    "def z_score(x_train):\n",
    "\n",
    "  # ---------\n",
    "    # write the code for feature scaling here\n",
    "    # Your code here\n",
    "    x_mean=np.mean(x_train,axis=0)\n",
    "    x_std=np.std(x_train,axis=0)\n",
    "    x_train=(x_train-x_mean)/x_std\n",
    "  # ---------\n",
    "\n",
    "    return x_train,x_std,x_mean"
   ]
  },
  {
   "cell_type": "code",
   "execution_count": 233,
   "metadata": {
    "id": "O5dOwbNbWJWa"
   },
   "outputs": [],
   "source": [
    "def cost(x_train,y_train,w1,b1,w2,b2):\n",
    "   \n",
    "  # ---------\n",
    "    # Your code here\n",
    "    m=x_train.shape[0]\n",
    "    value1=x_train@w1+b1 #(1000,100)\n",
    "    value2=value1@w2+b2   #(1000,1)\n",
    "    a=(value2-y_train)**2\n",
    "    summ=a.sum(axis=0)\n",
    "    loss=summ/(2*m)\n",
    "    \n",
    "    # Use mean square error as cost function\n",
    "    # return cost\n",
    "  # ---------\n",
    "\n",
    "    return loss"
   ]
  },
  {
   "cell_type": "code",
   "execution_count": 234,
   "metadata": {
    "id": "hW8p2cTNU74W"
   },
   "outputs": [],
   "source": [
    "def gradient_descent(x_train,y_train,w1,b1,w2,b2):\n",
    "\n",
    "  # ---------\n",
    "    # Your code here\n",
    "    \n",
    "    c=0.01\n",
    "               \n",
    "    m=x_train.shape[0]\n",
    "    value1=x_train@w1+b1 #(1000,100)\n",
    "    value2=value1@w2+b2   #(1000,1)\n",
    "    summ=(value2-y_train)  #1000,1\n",
    "\n",
    "\n",
    "    \n",
    "    w2_d=(np.transpose(value1))@(summ)  #(100,1)\n",
    "    w2_d=w2_d/m\n",
    "    b2_d=summ.sum(axis=0)/m\n",
    "    dvalue1=(summ@(np.transpose(w2)))/m   #(1000,100)\n",
    "    w1_d=((np.transpose(x_train))@dvalue1)\n",
    "    b1_d=dvalue1.sum(axis=0)\n",
    "    w2=w2-c*w2_d\n",
    "    b2=b2-c*b2_d\n",
    "    w1=w1-c*w1_d\n",
    "    b1=b1-c*b1_d\n",
    "     # Check for NaNs after updating\n",
    "    if np.isnan(w1).any() or np.isnan(b1).any() or np.isnan(w2).any() or np.isnan(b2).any():\n",
    "        print(\"NaN encountered in weights or biases.\")\n",
    "    \n",
    "   \n",
    "    \n",
    "    \n",
    "    # Choose learning rate yourself\n",
    "  # ---------\n",
    "\n",
    "    return w1,b1,w2,b2"
   ]
  },
  {
   "cell_type": "code",
   "execution_count": null,
   "metadata": {},
   "outputs": [],
   "source": []
  },
  {
   "cell_type": "code",
   "execution_count": 235,
   "metadata": {},
   "outputs": [
    {
     "data": {
      "text/plain": [
       "(1,)"
      ]
     },
     "execution_count": 235,
     "metadata": {},
     "output_type": "execute_result"
    }
   ],
   "source": [
    "c.shape\n",
    "\n"
   ]
  },
  {
   "cell_type": "code",
   "execution_count": 236,
   "metadata": {},
   "outputs": [],
   "source": [
    "x_train = x_train.astype(np.float64)\n",
    "x_train,x_std,x_mean = z_score(x_train)\n",
    "\n",
    "np.random.seed(2147483647)\n",
    "w1 = np.random.randn(x_train.shape[1],100)\n",
    "w2=np.random.randn(100,1)\n",
    "b1 = np.random.randn(1,100)\n",
    "b2=np.random.randn(1)\n",
    "old_cost = 0\n"
   ]
  },
  {
   "cell_type": "code",
   "execution_count": 237,
   "metadata": {
    "id": "Kl-fioJ5WkYn"
   },
   "outputs": [
    {
     "name": "stdout",
     "output_type": "stream",
     "text": [
      "[5.4977258e-06]\n",
      "Congratulations, your accuracy is 100.0%\n"
     ]
    }
   ],
   "source": [
    "\n",
    "\n",
    "\n",
    "\n",
    "for i in range(1000):\n",
    "  \n",
    "  w1,b1,w2,b2 = gradient_descent(x_train,y_train,w1,b1,w2,b2)\n",
    "  if np.isnan(current_cost):\n",
    "        print(\"NaN encountered in cost.\")\n",
    "        break\n",
    "  \n",
    "\n",
    "c=cost(x_train,y_train,w1,b1,w2,b2)\n",
    "print(c)\n",
    "  \n",
    "    \n",
    "\n",
    "\n",
    "\n",
    "\n",
    "\n",
    "\n",
    "x_predict = pd.read_excel('Test data.xlsx').iloc[:,:8].to_numpy()\n",
    "\n",
    "x_predict = feature_changing(x_predict)\n",
    "x_predict = x_predict.astype(np.float64)\n",
    "x_predict = (x_predict - x_mean)/x_std\n",
    "ans = pd.read_excel('Test data.xlsx').iloc[:,8].to_numpy()\n",
    "\n",
    "\n",
    "value1= np.dot(x_predict,w1) + b1\n",
    "y_predict=np.dot(value1,w2)+b2\n",
    "\n",
    "\n",
    "accuracy = 0\n",
    "for dim in range(len(ans)):\n",
    "  if abs(y_predict[dim]-ans[dim])<0.5: # do not change the tolerance as you'll be checked on +- 0.5 error only\n",
    "    accuracy += 1\n",
    "accuracy = round(accuracy*100/200.0,2)\n",
    "ok = 'Congratulations' if accuracy>95 else 'Optimization required'\n",
    "print(f\"{ok}, your accuracy is {accuracy}%\")"
   ]
  },
  {
   "cell_type": "code",
   "execution_count": null,
   "metadata": {},
   "outputs": [],
   "source": []
  }
 ],
 "metadata": {
  "colab": {
   "provenance": []
  },
  "kernelspec": {
   "display_name": "Python 3 (ipykernel)",
   "language": "python",
   "name": "python3"
  },
  "language_info": {
   "codemirror_mode": {
    "name": "ipython",
    "version": 3
   },
   "file_extension": ".py",
   "mimetype": "text/x-python",
   "name": "python",
   "nbconvert_exporter": "python",
   "pygments_lexer": "ipython3",
   "version": "3.12.4"
  }
 },
 "nbformat": 4,
 "nbformat_minor": 4
}
