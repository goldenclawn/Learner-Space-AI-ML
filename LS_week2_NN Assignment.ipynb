{
 "cells": [
  {
   "cell_type": "code",
   "execution_count": 4,
   "id": "9c9a5e0d-d3fc-4f7a-99c0-9b4226777b9d",
   "metadata": {},
   "outputs": [],
   "source": [
    "import os\n",
    "import numpy as np\n",
    "import tensorflow as tf\n",
    "from sklearn.model_selection import train_test_split\n",
    "from tensorflow.keras.preprocessing.image import ImageDataGenerator, img_to_array, load_img\n"
   ]
  },
  {
   "cell_type": "code",
   "execution_count": 6,
   "id": "a5437c67-81e6-4f0a-b526-feeb9be88407",
   "metadata": {},
   "outputs": [],
   "source": [
    "from tensorflow.keras import layers, models, regularizers\n",
    "\n",
    "\n",
    "model = models.Sequential([\n",
    "    layers.Input(shape=(64,64,3)),\n",
    "    layers.Flatten(),\n",
    " \n",
    "    layers.Dense(128, activation='relu', kernel_regularizer=regularizers.l2(0.001)),\n",
    "    layers.BatchNormalization(),\n",
    "    \n",
    "    layers.Dense(64, activation='relu', kernel_regularizer=regularizers.l2(0.001)),\n",
    "    layers.BatchNormalization(),\n",
    "    layers.Dense(16, activation='relu',kernel_regularizer=regularizers.l2(0.001)),\n",
    "    layers.BatchNormalization(),\n",
    "    layers.Dense(2, activation='softmax')\n",
    "])\n",
    "\n"
   ]
  },
  {
   "cell_type": "code",
   "execution_count": 10,
   "id": "0f5be13b-290f-4bfd-92fc-2beec2aa9da4",
   "metadata": {},
   "outputs": [
    {
     "name": "stdout",
     "output_type": "stream",
     "text": [
      "Found 269 files belonging to 2 classes.\n",
      "Using 243 files for training.\n",
      "Epoch 1/10\n",
      "8/8 - 5s - 643ms/step - accuracy: 1.0000 - loss: 0.2778\n",
      "Epoch 2/10\n",
      "8/8 - 0s - 35ms/step - accuracy: 0.9794 - loss: 0.2796\n",
      "Epoch 3/10\n",
      "8/8 - 0s - 35ms/step - accuracy: 0.9835 - loss: 0.2816\n",
      "Epoch 4/10\n",
      "8/8 - 0s - 34ms/step - accuracy: 0.9918 - loss: 0.2497\n",
      "Epoch 5/10\n",
      "8/8 - 0s - 35ms/step - accuracy: 0.9918 - loss: 0.2468\n",
      "Epoch 6/10\n",
      "8/8 - 0s - 35ms/step - accuracy: 1.0000 - loss: 0.2268\n",
      "Epoch 7/10\n",
      "8/8 - 0s - 37ms/step - accuracy: 1.0000 - loss: 0.2234\n",
      "Epoch 8/10\n",
      "8/8 - 0s - 34ms/step - accuracy: 1.0000 - loss: 0.2148\n",
      "Epoch 9/10\n",
      "8/8 - 0s - 33ms/step - accuracy: 1.0000 - loss: 0.2091\n",
      "Epoch 10/10\n",
      "8/8 - 0s - 34ms/step - accuracy: 1.0000 - loss: 0.1971\n",
      "8/8 - 1s - 74ms/step - accuracy: 0.6296 - loss: 2.2600\n"
     ]
    },
    {
     "data": {
      "text/plain": [
       "[2.2599947452545166, 0.6296296119689941]"
      ]
     },
     "execution_count": 10,
     "metadata": {},
     "output_type": "execute_result"
    }
   ],
   "source": [
    "ds_train=tf.keras.preprocessing.image_dataset_from_directory(\n",
    "    './homer_bart',\n",
    "    labels='inferred',\n",
    "    label_mode=\"int\",\n",
    "    color_mode='rgb',\n",
    "    batch_size=32,\n",
    "    image_size=(64,64),\n",
    "    shuffle=True,\n",
    "    seed=123,\n",
    "    validation_split=0.1,\n",
    "    subset='training'\n",
    ")\n",
    "def augment(x,y):\n",
    "    image=tf.image.random_brightness(x,max_delta=0.05),\n",
    "    return image,y\n",
    "\n",
    "ds_train=ds_train.map(augment)\n",
    "for epochs in range(20):\n",
    "   for x,y in ds_train:\n",
    "       pass\n",
    "\n",
    "optimizer=tf.keras.optimizers.Adam(learning_rate=0.001)\n",
    "model.compile(optimizer=optimizer, loss='sparse_categorical_crossentropy', metrics=['accuracy'])\n",
    "\n",
    "\n",
    "model.fit(ds_train, epochs=10,verbose=2)\n",
    "model.evaluate(ds_train,batch_size=32,verbose=2)\n"
   ]
  },
  {
   "cell_type": "code",
   "execution_count": null,
   "id": "adc0eed0-839b-43f8-b650-522c85c9c2ba",
   "metadata": {},
   "outputs": [],
   "source": []
  }
 ],
 "metadata": {
  "kernelspec": {
   "display_name": "Python 3 (ipykernel)",
   "language": "python",
   "name": "python3"
  },
  "language_info": {
   "codemirror_mode": {
    "name": "ipython",
    "version": 3
   },
   "file_extension": ".py",
   "mimetype": "text/x-python",
   "name": "python",
   "nbconvert_exporter": "python",
   "pygments_lexer": "ipython3",
   "version": "3.12.4"
  }
 },
 "nbformat": 4,
 "nbformat_minor": 5
}
